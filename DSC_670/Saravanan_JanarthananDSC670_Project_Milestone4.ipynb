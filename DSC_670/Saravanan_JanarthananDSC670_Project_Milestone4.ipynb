{
 "cells": [
  {
   "cell_type": "markdown",
   "id": "f2586afa",
   "metadata": {},
   "source": [
    "#  DSC670 Advanced Uses of Generative AI  #\n",
    "\n",
    "## Project Milestone 3 - Fine tune Model  ##\n",
    "\n",
    "### Saravanan Janarthanan ###"
   ]
  },
  {
   "cell_type": "markdown",
   "id": "155cb616",
   "metadata": {},
   "source": [
    "Steps for Finetuning the model to provide  responses from fine tuned domain information\n",
    "\n",
    "**Step 1 Create a JSONL file with the below strucrure**\n",
    "\n",
    "For this milestone the below JSONL structure is maitained\n",
    "The JSONL (Chicken_receipe.jsonl) file contains a structured conversation-style dataset for fine-tuning an OpenAI model. Each line in the file is a JSON object with a \"messages\" key, which stores a list of role-based messages (system, user, assistant).\n",
    "\n",
    "Sample format<br>\n",
    "\n",
    "{<br>\n",
    "  \"messages\": [<br>\n",
    "    {\"role\": \"system\", \"content\": \"You provide chicken recipes from a given list.\"},<br>\n",
    "    {\"role\": \"user\", \"content\": \"Give me a recipe for chicken Meatloaf\"},<br>\n",
    "    {\"role\": \"assistant\", \"content\": \"Recipe Name: Chicken Meatloaf; Ingredients: ground chicken, onion, panko, Parmesan <br>cheese, ... Cooking Instructions: Preheat the oven to 350°F, mix ingredients, bake for 50 minutes.\"}<br>\n",
    "  ]<br>\n",
    "}<br>\n",
    "\n",
    "System Role: Defines the assistant's behavior (e.g., \"You provide chicken recipes from a given list.\").<br>\n",
    "User Role: Represents a user query (e.g., \"Give me a recipe for chicken Meatloaf\")Assistant Role: The AI's response, providing <br>the recipe (e.g., \"Recipe Name: Chicken Meatloaf; Ingredients: ..., Cooking Instructions: ...\").<br>\n",
    "\n",
    "\n",
    "\n",
    "**Step 2 , Check the formats of JSONL file**\n",
    "\n",
    "Check for Required Roles: while parsing check if list of allowed roles (e.g., \"user\", \"assistant\", \"system\").  validation script will check if the \"role\" field exists in each JSON object and if its value is in the allowed list.\n",
    "\n",
    "Check Attributes: For each role, check if these attributes are present in the JSON object for the corresponding role.\n",
    "\n",
    "This helps to avoid issues while fine tuning\n",
    "\n",
    "**Step 3 check for token size in the JSONL**\n",
    "\n",
    "Checking token size in a JSONL file requires a tokenizer that was used in based model so that the fine tuning process.\n",
    "\n",
    "Model Specific Tokenization : Language models are trained with a particular tokenizer. The tokenizer is an integral part of how the model understands and processes text. Each tokenizer has its own vocabulary and rules for breaking down text into tokens. tiktoken is predominantly used for openai and the same is used here for encoding the JSONL\n",
    "\n",
    "**Step 4 Load the JSONL file**\n",
    "\n",
    "Fine-tuning an OpenAI model requires uploading a properly formatted JSONL (JSON Lines) file. While uploading the keyword purpose=\"fine-tune\"  instructs openAI that file uploaded was indented for Fine tuning.  The uploaded file is just stored,  then the uploaded file is processed  and if valid it is marked as \"processed\".  At this stage the file is ready for fine -tuning.  If there are errors \"failed\" status will be marked. a file id is returned for reference.  \n",
    "\n",
    "**Step 5 Kick Start the fine tuning job**\n",
    "\n",
    "Using openAI api call the fine tuning process using the file id returned after JSONL was uploaded and define a base model to fine tune\n",
    "For this project below base model is used\n",
    "- gpt-4o-mini-2024-07-18\n",
    "\n",
    "This process provides a job id for reference, Using job id the status of fine tuning can be fetched.\n",
    "\n",
    "This process kick starts validation of training file and after validation it is queued for fine tuning. This indicates that the process is waiting for resources to be freed to start fine tuning\n",
    "Once the fine tuning process starts the status changes from \"queued\"  to\"running\" .\n",
    "Aftet the fine tuning is scuessfully completed the status changes to \"succeeded\"  and it provides a fine tuned model name or id.\n",
    "\n",
    "\n",
    "**Step 6 Start using the fine tuned model for inference**\n",
    "\n",
    "Once your fine-tuned model is trained and available, it can be used for inference, meaning it can generate responses based on the model’s knowledge.\n",
    "\n",
    "The infered prompt or  message will use the JSNOL structure,  system role and user role with attributes as content. The user role content will include the prompt question and system role will instruct the model.\n",
    "\n",
    "-----\n"
   ]
  },
  {
   "cell_type": "code",
   "execution_count": 45,
   "id": "1ab21c85",
   "metadata": {},
   "outputs": [],
   "source": [
    "# import the openai module to interact with base model and fine tuning process\n",
    "import openai\n",
    "# import json module to process json messages\n",
    "import json\n",
    "# Open AI specific module for encoding the tokens\n",
    "import tiktoken\n",
    "\n",
    "from openai import OpenAI\n",
    "# api key is already stored in a text file in local directory\n",
    "\n",
    "# Read the API key from the file\n",
    "with open(\"apikey.txt\", \"r\") as file:\n",
    "    key = file.read().strip()  # Remove any extra whitespace or newlines\n",
    "\n",
    "# Set the Key for accessing openAI\n",
    "client = OpenAI(\n",
    "    api_key=key,  \n",
    ")\n",
    "\n",
    "import os\n",
    "\n",
    "# Set the OpenAI API key as an environment variable\n",
    "os.environ[\"OPENAI_API_KEY\"] = key"
   ]
  },
  {
   "cell_type": "markdown",
   "id": "7274a0e0",
   "metadata": {},
   "source": [
    "\n",
    "----\n",
    "\n",
    "**Read the JSONL file to ensure that each line is a JSON object**\n",
    "\n",
    "Read a JSONL file, parse each line as a JSON object, and store the objects in a list. It includes error handling to catch invalid JSON lines and provides informative error messages."
   ]
  },
  {
   "cell_type": "code",
   "execution_count": 2,
   "id": "e38d2c0f",
   "metadata": {},
   "outputs": [],
   "source": [
    "# Step 1: Validate the JSONL file, read the same and load each line as a list element\n",
    "def validate_jsonl(jsonl_file):\n",
    "    jsonl_data = []\n",
    "    try:\n",
    "        # open the JSONL file\n",
    "        with open(jsonl_file, 'r') as file:\n",
    "            for line_number, line in enumerate(file, start=1):   # Iterate the file to read each line\n",
    "                #print(line)\n",
    "                jsonl_data.append(json.loads(line.strip()))      # Check the json basic structure and load each line \n",
    "        print(\"JSONL file format is valid.\")        \n",
    "        return jsonl_data           \n",
    "    except json.JSONDecodeError as e:\n",
    "        raise ValueError(f\"Error in line {line_number}: {e}\")\n",
    "    \n",
    "    "
   ]
  },
  {
   "cell_type": "markdown",
   "id": "fb5a386e",
   "metadata": {},
   "source": [
    "\n",
    "\n",
    "----\n",
    "\n",
    "**Validate JSONL format**\n",
    "\n",
    "validates the format of JSONL data, specifically checking for required keys, valid values, and structural integrity. \n",
    "Perform a thorough validation of the structure and content of JSONL data used for fine-tuning, ensuring that it adheres to the expected format and contains the necessary information.<br>\n",
    "- It iterate through each item in the messages list.  Each message is expected to be a dictionary.\n",
    "- Check if both \"role\" and \"content\" keys are present in the current message dictionary.\n",
    "- Check if the value associated with the \"role\" key is one of the allowed values: \"system\", \"user\", \"assistant\", or \"function\"\n",
    "- Check if the content exists and is a string, or if a function_call exists.\n",
    "- defaultdict is used for incrementing the errors if any, defaultdict creates an entry if it doesnot exisit and hence the check for exisiting error key is eliminated"
   ]
  },
  {
   "cell_type": "code",
   "execution_count": 3,
   "id": "feaefe25",
   "metadata": {},
   "outputs": [],
   "source": [
    "from collections import defaultdict\n",
    "\n",
    "# A method to validate the contents within the JSONL \n",
    "def check_jsonl_formats(jsondaata):\n",
    "    # Format error checks - use a defaultdict to count occurrences  and \n",
    "    # that does not return error for missing keys.\n",
    "    # For a requested key, the dictionary object initializes with a default value\n",
    "    format_errors = defaultdict(int)\n",
    "    \n",
    "    # Iterate the JSONL message list\n",
    "    for ex in jsondaata:\n",
    "        # check if the filecontains a dictionary\n",
    "        # messages contain dict elements\n",
    "        if not isinstance(ex, dict):    \n",
    "            format_errors[\"data_type\"] += 1\n",
    "            continue\n",
    "        \n",
    "        # parse the jsonl file ,  check if it contains the messages \n",
    "        messages = ex.get(\"messages\", None)\n",
    "        if not messages:\n",
    "            format_errors[\"missing_messages_list\"] += 1\n",
    "            continue\n",
    "        \n",
    "        # Iertate each line under messages container\n",
    "        for message in messages:\n",
    "            # check if the line contains role and content key, value pair\n",
    "            if \"role\" not in message or \"content\" not in message:\n",
    "                format_errors[\"message_missing_key\"] += 1\n",
    "            # within each line,  if it contains more than one key value pair,  whether it has \n",
    "            # any of the key words \"role\", \"content\", \"weight\",  \"fucntion_call\"\n",
    "            if any(k not in (\"role\", \"content\", \"name\", \"function_call\", \"weight\") for k in message):\n",
    "                format_errors[\"message_unrecognized_key\"] += 1\n",
    "        \n",
    "            # check if the values against role key has either of \n",
    "            # \"system\", \"user\", \"assistant\", \"function\"\n",
    "            if message.get(\"role\", None) not in (\"system\", \"user\", \"assistant\", \"function\"):\n",
    "                format_errors[\"unrecognized_role\"] += 1\n",
    "            \n",
    "            content = message.get(\"content\", None)\n",
    "            function_call = message.get(\"function_call\", None)\n",
    "        \n",
    "            if (not content and not function_call) or not isinstance(content, str):\n",
    "                format_errors[\"missing_content\"] += 1\n",
    "    \n",
    "        if not any(message.get(\"role\", None) == \"assistant\" for message in messages):\n",
    "            format_errors[\"example_missing_assistant_message\"] += 1\n",
    "\n",
    "    if format_errors:\n",
    "        print(\"Found errors:\")\n",
    "        for k, v in format_errors.items():\n",
    "            print(f\"{k}: {v}\")\n",
    "    else:\n",
    "        print(\"No errors found\")"
   ]
  },
  {
   "cell_type": "markdown",
   "id": "2f0d4b60",
   "metadata": {},
   "source": [
    "\n",
    "\n",
    "----\n",
    "\n",
    "**Estimate the Token count**\n",
    "\n",
    "Calculate the total number of tokens in a set of messages, which is useful for estimating the token usage of your fine-tuning data and potentially reducing the size of your JSONL file if token limits are a concern.\n",
    "Tokenizer for \"gpt-4o-mini-2024-07-18\" is set using the tiktoken module\n"
   ]
  },
  {
   "cell_type": "code",
   "execution_count": 4,
   "id": "0d436435",
   "metadata": {},
   "outputs": [],
   "source": [
    "# Count tokens that will aid if there is failure while fine tuning\n",
    "# Reduce the JSONL file lines if high numner of tokens pose a issue\n",
    "# Function to count tokens for a each line \n",
    "def count_tokens_in_message_set(message_set):\n",
    "    token_count = 0\n",
    "    for message in message_set[\"messages\"]:\n",
    "        # Concatenate role and content for tokenization\n",
    "        role = message[\"role\"]\n",
    "        content = message[\"content\"]\n",
    "        token_count += len(tokenizer.encode(role)) + len(tokenizer.encode(content))\n",
    "    return token_count"
   ]
  },
  {
   "cell_type": "code",
   "execution_count": 5,
   "id": "68a5def8",
   "metadata": {},
   "outputs": [],
   "source": [
    "# method to count total tokens in JSONL file\n",
    "def count_tokens_for_jsonl(jsonldata):   \n",
    "    total_tokens = 0\n",
    "    for idx, message_set in enumerate(jsonldata, start=1):\n",
    "        message_tokens = count_tokens_in_message_set(message_set)\n",
    "        total_tokens += message_tokens\n",
    "        #print(f\"Message Set {idx}: {message_tokens} tokens\")\n",
    "\n",
    "    # Display total token count\n",
    "    print(f\"Total Tokens: {total_tokens}\")"
   ]
  },
  {
   "cell_type": "markdown",
   "id": "4a69c469",
   "metadata": {},
   "source": [
    "\n",
    "-----\n",
    "\n",
    "**Upload JSONL file to OpenAI**\n",
    "\n",
    "Upload a training file  that was data validated, the file needs to be uploaded using the Files API in order to be used with a fine-tuning jobs. Upload a JSONL file to OpenAI for fine-tuning and it returns the ID of the uploaded file."
   ]
  },
  {
   "cell_type": "code",
   "execution_count": 6,
   "id": "8470c7b5",
   "metadata": {},
   "outputs": [],
   "source": [
    "#  A method to upload the given json file to OpenAI\n",
    "def upload_file_for_fineTuning(openAI_Client, jsonl_file):\n",
    "    # Upload the JSONL file for fine-tuning\n",
    "    fine_tune_file_det = openAI_Client.files.create(\n",
    "        file=open(jsonl_file, \"rb\"),\n",
    "        purpose=\"fine-tune\"\n",
    "    )\n",
    "    # Return the  file id for reference during kick starting fine tuning job \n",
    "    return fine_tune_file_det.id"
   ]
  },
  {
   "cell_type": "markdown",
   "id": "cfd50594",
   "metadata": {},
   "source": [
    "\n",
    "\n",
    "----\n",
    "\n",
    "**Start the Finetuning process**\n",
    "\n",
    "After ensuring the dataset's proper size, structure, and upload, the next step is to create a fine-tuning job.  The selected base model and uploaded file reference is used to start the job.  This helps the openAI to start traiing the model using uploaded file\n",
    "\n"
   ]
  },
  {
   "cell_type": "code",
   "execution_count": 24,
   "id": "2dc0b136",
   "metadata": {},
   "outputs": [],
   "source": [
    "# A method to start the fine tuning job using the uploaded file\n",
    "def create_fine_tuning_job(openAI_Client, file_id, base_model):\n",
    "    # kick start the fine tuning job\n",
    "    fine_tune_job = openAI_Client.fine_tuning.jobs.create(\n",
    "        training_file=file_id,    # uploaded file reference\n",
    "        model=base_model,         # base model to be used for fine tuning\n",
    "        hyperparameters={\n",
    "        \"n_epochs\": 5,          # number of training epochs\n",
    "        \"batch_size\": 1,         # training batch size\n",
    "        \"learning_rate_multiplier\": 2,  # learning rate multiplier (scales the base rate)\n",
    "    }\n",
    "\n",
    "    )\n",
    "    # return the job id for future refernece to check the status\n",
    "    return fine_tune_job.id"
   ]
  },
  {
   "cell_type": "markdown",
   "id": "129d3832",
   "metadata": {},
   "source": [
    "\n",
    "\n",
    "----\n",
    "\n",
    "**Monitor the fine tuning process**\n",
    "\n",
    "Retrieve the status of a fine-tuning job on OpenAI and, if successful, retrieves and prints the ID of the fine-tuned model\n",
    "\n",
    "After a fine-tuning job is started , it may take some time to complete. Job may be queued behind other jobs in system, and training a model can take minutes or hours depending on the model and dataset size. After the model training is completed,  an email confirmation is sent to the user account.  Mean shile this function can be used to check the intermediate stauses\n"
   ]
  },
  {
   "cell_type": "code",
   "execution_count": 8,
   "id": "b707b733",
   "metadata": {},
   "outputs": [],
   "source": [
    "# Monitor the fine-tuning status\n",
    "# Monitor the fine-tuning job\n",
    "# A method to check the status of the fine tuning\n",
    "# as LLM queues the same and communciates in a mail when complete\n",
    "# this method will provide the current status of fine tuning\n",
    "# returns the fine tuned model name\n",
    "def find_fine_tuning_status(openAI_Client, fine_tune_job_id):\n",
    "    fine_tune_job_status = openAI_Client.fine_tuning.jobs.retrieve(fine_tune_job_id)\n",
    "    status = fine_tune_job_status.status\n",
    "    print(\"Fine tuning job status : \", status)\n",
    "    if status == \"succeeded\":\n",
    "            print(fine_tune_job_status.json())\n",
    "            fine_tune_job_status_dict = json.loads(fine_tune_job_status.json())\n",
    "            fine_tuned_model = fine_tune_job_status_dict[\"fine_tuned_model\"]\n",
    "            print(f\"Fine-tuning completed successfully. Model ID: {fine_tuned_model}\")\n",
    "            return fine_tuned_model"
   ]
  },
  {
   "cell_type": "markdown",
   "id": "e4c45cb2",
   "metadata": {},
   "source": [
    "\n",
    "\n",
    "----\n",
    "\n",
    "**Orchestrate the fine tuning process**\n",
    "\n",
    "Thsi orchestration is into three sections\n",
    "\n",
    "- Section 1\n",
    "    - Validate JSON structure\n",
    "    - Run the JSONL file format,  structure validation process locally to resolve any issues before uploading the file\n",
    "    - count the token to ensure it is within the limit and take necessary action based on count\n",
    "    \n",
    "- Section 2\n",
    "    - Upload the JSONL file into OpenAI system\n",
    "    - Start the fine tuning process\n",
    "    \n",
    "- Section 3\n",
    "    - Monitor the fine tuning process status\n",
    "\n",
    "\n",
    "\n"
   ]
  },
  {
   "cell_type": "markdown",
   "id": "ecc5fe93",
   "metadata": {},
   "source": [
    "\n",
    "\n",
    "-----\n",
    "\n",
    "**Orchestration Section 1**\n",
    "\n",
    "This section step ensures that your JSONL file adheres to OpenAI's required format. Even small deviations can cause upload failures or incorrect fine-tuning.\n",
    "\n",
    "OpenAI's fine-tuning pricing is often based on token usage. It's crucial to estimate the number of tokens in your training data before you start fine-tuning to:\n",
    "- Predict costs.\n",
    "- Ensure you are within any token limits.\n",
    "- Identify long examples that might be problematic."
   ]
  },
  {
   "cell_type": "code",
   "execution_count": 16,
   "id": "5a27e695",
   "metadata": {},
   "outputs": [
    {
     "name": "stdout",
     "output_type": "stream",
     "text": [
      "JSONL file format is valid.\n",
      "No errors found\n",
      "Total Tokens: 14139\n"
     ]
    }
   ],
   "source": [
    "# Orchestrate Validation,  checking formats, count tokens \n",
    "import tiktoken\n",
    "\n",
    "#input_jsonl_file = \"Chicken_receipe.jsonl\"\n",
    "\n",
    "input_jsonl_file = \"Reformatted_Chicken_Recipes_v2.jsonl\"\n",
    "\n",
    "# Choose the model to finetune\n",
    "MODEL_NAME = \"gpt-4o-mini-2024-07-18\"\n",
    "\n",
    "# check if the JSON strcuture (readable as a JSON)\n",
    "jsonl_data = validate_jsonl(input_jsonl_file)\n",
    "\n",
    "# check if the JSONL file meets the expected training struture\n",
    "check_jsonl_formats(jsonl_data)\n",
    "\n",
    "# Use tiketoken specific to chosen model\n",
    "tokenizer = tiktoken.encoding_for_model(MODEL_NAME)\n",
    "\n",
    "# Count the tokens\n",
    "count_tokens_for_jsonl(jsonl_data)\n",
    "\n",
    "\n",
    "\n"
   ]
  },
  {
   "cell_type": "markdown",
   "id": "283353ed",
   "metadata": {},
   "source": [
    "\n",
    "\n",
    "-----\n",
    "\n",
    "**Orchestration Section 2**\n",
    "\n",
    "Upload the JSON file into OpenAI system and ensure it is processed.  It returns a file id to be used for starting fine tuning process.\n",
    "\n",
    "After sucessful validation start the fine tuning process. It returns a job id for future reference.\n"
   ]
  },
  {
   "cell_type": "code",
   "execution_count": 49,
   "id": "86cfd497",
   "metadata": {},
   "outputs": [
    {
     "name": "stdout",
     "output_type": "stream",
     "text": [
      "The Uploaded File id:  file-AdVS7sTwKUkes9N17maRwq\n"
     ]
    }
   ],
   "source": [
    "# Upload the file\n",
    "ft_file_id = upload_file_for_fineTuning(client, input_jsonl_file)\n",
    "print(\"The Uploaded File id: \", ft_file_id)"
   ]
  },
  {
   "cell_type": "code",
   "execution_count": 50,
   "id": "580e7d4e",
   "metadata": {},
   "outputs": [
    {
     "name": "stdout",
     "output_type": "stream",
     "text": [
      "The fine tuning request sent and the job is is  ftjob-zzYSo4EWaaZZv0mOT6xDAcbj\n"
     ]
    }
   ],
   "source": [
    "# start the fine tuning process\n",
    "ft_job_id = create_fine_tuning_job(client, ft_file_id, MODEL_NAME)\n",
    "print(\"The fine tuning request sent and the job is is \", ft_job_id)"
   ]
  },
  {
   "cell_type": "markdown",
   "id": "96e00634",
   "metadata": {},
   "source": [
    "-----\n",
    "\n",
    "**Orchestration Section 3**\n",
    "\n",
    "Keep monitoring the status and if the status is \"succeeded\" then the model id is returned for using it for inference"
   ]
  },
  {
   "cell_type": "code",
   "execution_count": null,
   "id": "c3427beb",
   "metadata": {},
   "outputs": [],
   "source": []
  },
  {
   "cell_type": "markdown",
   "id": "7c4ee40b",
   "metadata": {},
   "source": [
    "\n",
    "\n",
    "----\n",
    "\n",
    "**Inference or putting to use the fine tuned model**"
   ]
  },
  {
   "cell_type": "code",
   "execution_count": 31,
   "id": "121cb63c",
   "metadata": {},
   "outputs": [],
   "source": [
    "def infer_fine_tuned_model(model_id, user_content):\n",
    "    completion = client.chat.completions.create(\n",
    "        model=model_id,\n",
    "        messages=[\n",
    "            {\"role\": \"system\", \"content\": \"You being a great chef provide chicken recipes from the finetuned model only\"},\n",
    "            {\"role\": \"user\", \"content\": user_content}\n",
    "        ],\n",
    "        temperature=0.3\n",
    "    )\n",
    "\n",
    "    print(completion.choices[0].message)"
   ]
  },
  {
   "cell_type": "code",
   "execution_count": 27,
   "id": "1ac6b0d4",
   "metadata": {},
   "outputs": [
    {
     "name": "stdout",
     "output_type": "stream",
     "text": [
      "Fine tuning job status :  succeeded\n",
      "{\"id\":\"ftjob-W3DosWmIHYqj7mE0unkjwxXC\",\"created_at\":1740803968,\"error\":{\"code\":null,\"message\":null,\"param\":null},\"fine_tuned_model\":\"ft:gpt-4o-mini-2024-07-18:personal::B692dQjK\",\"finished_at\":1740804422,\"hyperparameters\":{\"batch_size\":1,\"learning_rate_multiplier\":2.0,\"n_epochs\":5},\"model\":\"gpt-4o-mini-2024-07-18\",\"object\":\"fine_tuning.job\",\"organization_id\":\"org-szNTzYMcCViBQFvI8yYmapNm\",\"result_files\":[\"file-VY3HbKPmLPKKPWyiKkq9TK\"],\"seed\":1913158387,\"status\":\"succeeded\",\"trained_tokens\":72980,\"training_file\":\"file-6fD8xHiusTVinrAa8XaWza\",\"validation_file\":null,\"estimated_finish\":null,\"integrations\":[],\"method\":{\"dpo\":null,\"supervised\":{\"hyperparameters\":{\"batch_size\":1,\"learning_rate_multiplier\":2.0,\"n_epochs\":5}},\"type\":\"supervised\"},\"user_provided_suffix\":null}\n",
      "Fine-tuning completed successfully. Model ID: ft:gpt-4o-mini-2024-07-18:personal::B692dQjK\n"
     ]
    },
    {
     "name": "stderr",
     "output_type": "stream",
     "text": [
      "C:\\Users\\poorn\\AppData\\Local\\Temp\\ipykernel_17312\\2117883182.py:12: PydanticDeprecatedSince20: The `json` method is deprecated; use `model_dump_json` instead. Deprecated in Pydantic V2.0 to be removed in V3.0. See Pydantic V2 Migration Guide at https://errors.pydantic.dev/2.10/migration/\n",
      "  print(fine_tune_job_status.json())\n",
      "C:\\Users\\poorn\\AppData\\Local\\Temp\\ipykernel_17312\\2117883182.py:13: PydanticDeprecatedSince20: The `json` method is deprecated; use `model_dump_json` instead. Deprecated in Pydantic V2.0 to be removed in V3.0. See Pydantic V2 Migration Guide at https://errors.pydantic.dev/2.10/migration/\n",
      "  fine_tune_job_status_dict = json.loads(fine_tune_job_status.json())\n"
     ]
    },
    {
     "data": {
      "text/plain": [
       "'ft:gpt-4o-mini-2024-07-18:personal::B692dQjK'"
      ]
     },
     "execution_count": 27,
     "metadata": {},
     "output_type": "execute_result"
    }
   ],
   "source": [
    "find_fine_tuning_status(client, ft_job_id)"
   ]
  },
  {
   "cell_type": "code",
   "execution_count": null,
   "id": "448f94ac",
   "metadata": {},
   "outputs": [],
   "source": [
    "find_fine_tuning_status(client, ft_job_id)"
   ]
  },
  {
   "cell_type": "code",
   "execution_count": 28,
   "id": "a72de538",
   "metadata": {},
   "outputs": [
    {
     "name": "stdout",
     "output_type": "stream",
     "text": [
      "Fine tuning job status :  succeeded\n",
      "{\"id\":\"ftjob-W3DosWmIHYqj7mE0unkjwxXC\",\"created_at\":1740803968,\"error\":{\"code\":null,\"message\":null,\"param\":null},\"fine_tuned_model\":\"ft:gpt-4o-mini-2024-07-18:personal::B692dQjK\",\"finished_at\":1740804422,\"hyperparameters\":{\"batch_size\":1,\"learning_rate_multiplier\":2.0,\"n_epochs\":5},\"model\":\"gpt-4o-mini-2024-07-18\",\"object\":\"fine_tuning.job\",\"organization_id\":\"org-szNTzYMcCViBQFvI8yYmapNm\",\"result_files\":[\"file-VY3HbKPmLPKKPWyiKkq9TK\"],\"seed\":1913158387,\"status\":\"succeeded\",\"trained_tokens\":72980,\"training_file\":\"file-6fD8xHiusTVinrAa8XaWza\",\"validation_file\":null,\"estimated_finish\":null,\"integrations\":[],\"method\":{\"dpo\":null,\"supervised\":{\"hyperparameters\":{\"batch_size\":1,\"learning_rate_multiplier\":2.0,\"n_epochs\":5}},\"type\":\"supervised\"},\"user_provided_suffix\":null}\n",
      "Fine-tuning completed successfully. Model ID: ft:gpt-4o-mini-2024-07-18:personal::B692dQjK\n",
      "ft:gpt-4o-mini-2024-07-18:personal::B692dQjK\n"
     ]
    },
    {
     "name": "stderr",
     "output_type": "stream",
     "text": [
      "C:\\Users\\poorn\\AppData\\Local\\Temp\\ipykernel_17312\\2117883182.py:12: PydanticDeprecatedSince20: The `json` method is deprecated; use `model_dump_json` instead. Deprecated in Pydantic V2.0 to be removed in V3.0. See Pydantic V2 Migration Guide at https://errors.pydantic.dev/2.10/migration/\n",
      "  print(fine_tune_job_status.json())\n",
      "C:\\Users\\poorn\\AppData\\Local\\Temp\\ipykernel_17312\\2117883182.py:13: PydanticDeprecatedSince20: The `json` method is deprecated; use `model_dump_json` instead. Deprecated in Pydantic V2.0 to be removed in V3.0. See Pydantic V2 Migration Guide at https://errors.pydantic.dev/2.10/migration/\n",
      "  fine_tune_job_status_dict = json.loads(fine_tune_job_status.json())\n"
     ]
    }
   ],
   "source": [
    "model_id = find_fine_tuning_status(client, ft_job_id)\n",
    "print(model_id)"
   ]
  },
  {
   "cell_type": "code",
   "execution_count": 40,
   "id": "183caebe",
   "metadata": {},
   "outputs": [],
   "source": [
    "# set the model id recieved\n",
    "FT_MODEL_NM = model_id"
   ]
  },
  {
   "cell_type": "code",
   "execution_count": 46,
   "id": "b5967df0",
   "metadata": {},
   "outputs": [
    {
     "name": "stdout",
     "output_type": "stream",
     "text": [
      "ChatCompletionMessage(content='Recipe Name:\\n Chicken Curry\\n\\nIngredients:\\n-  Chicken Curry 1 kg Chicken (bone-in) 1 large Lemon 2 tbsp Kashmiri Chilli Powder 1 tbsp Turmeric Powder 2 tbsp Salt 3 tbsp Ginger Garlic Paste 4 tbsp Oil 2 large Onions sliced thinly 2 large Green Chilli slit 2 tbsp Ginger chopped finely 2 tbsp Garlic chopped finely 1 sprig Curry Leaves 1 cup Water 2 tsp Garam Masala Powder 1 tbsp Coriander Leaves finely chopped For Roasting & Grinding 3 tbsp Oil 2 tbsp Coriander Seeds 2 tbsp Fennel Seeds 1 tbsp Cumin Seeds 1 tbsp Black Pepper 5 no Dry Red Chilli 1 piece Cinnamon 1 piece Stone Flower 1 cup Freshly Grated Coconut\\n\\nCooking Instructions:\\n1.  Take chicken in a bowl\\n2. Add in lemon juice, salt, chilli powder, turmeric powder and ginger garlic paste\\n3. Mix well and set aside for 10 mins\\n4. Heat 3 tblsp oil in a pan, add chicken and sear on high heat for 5 mins\\n5. Remove to a bowl\\n6. In the same pan, add 2 tblsp oil, add onions, green chillies, curry leaves and cook till golden\\n7. Add in ginger garlic and cook till golden\\n8. Add in chicken, water and salt\\n9. Cover and simmer for 20 mins\\n10. Add garam masala powder and coriander leaves and mix well\\n11. Set aside\\n12. Now make the roasted masala\\n13. Heat 3 tblsp oil in a pan, add spices and toast them for 2 mins\\n14. Add coconut and toast till golden\\n15. Remove to a blender and puree till smooth\\n16. Add this to the chicken and mix well\\n17. Simmer for 10 mins\\n18. Serve.', refusal=None, role='assistant', audio=None, function_call=None, tool_calls=None)\n"
     ]
    }
   ],
   "source": [
    "infer_fine_tuned_model(FT_MODEL_NM, \"Get me a recipe for Chicken Curry\")"
   ]
  },
  {
   "cell_type": "code",
   "execution_count": 47,
   "id": "0827bb4a",
   "metadata": {},
   "outputs": [
    {
     "name": "stdout",
     "output_type": "stream",
     "text": [
      "ChatCompletionMessage(content='Recipe Name: Dhaba Style Chicken Gravy; Ingredients : For Chicken Gravy Recipe - 1 kg Chicken 2 Onions 2 large Tomatoes 2 tbsp Kashmiri Chilli Powder 1 tbsp Turmeric Powder 1 tbsp Garam Masala Powder 3 tbsp Ginger Garlic Paste 3 tbsp Lemon Juice Salt to taste For Cooking Chicken - 3 tbsp Oil 1 tbsp Ghee 2 tsp Cumin Seeds 2 Cinnamon Stick 2 large Bay Leaf 6 Green Cardamom 6 Black Pepper 1 cup Water 1 cup Curd (Yogurt) For Onion Paste - 2 tbsp Oil 2 large Onions sliced 2 Green Chillies slit 1 tbsp Ginger Garlic Paste 1 tbsp Lemon Juice Salt to taste For Tomato Paste - 1 tbsp Oil 2 large Tomatoes chopped 1 tbsp Ginger Garlic Paste 1 tbsp Lemon Juice Salt to taste 2 tbsp Coriander Leaves; Cooking Instructions : Take curd in a bowl, add in 1 tsp salt and whisk till smooth. Set aside. Heat 3 tblsp oil in a pot. Add in cumin and other whole spices. Add in chicken and sear on high heat for 5 to 6 minutes. Add in salt, ginger garlic paste and mix well. Add in lemon juice and mix well. Now add in the whisked curd and mix well. Cover and cook for 15 to 20 minutes till chicken is cooked. Now make the onion paste. Heat 2 tblsp oil in a pan. Add in onions, chillies and salt. Fry till golden. Add in ginger garlic paste and fry till raw smell leaves. Add in lemon juice and mix well. Take it in a blender and puree till smooth. Set aside. Now make the tomato paste. Heat 1 tblsp oil in a pan. Add in tomatoes, salt, ginger garlic paste and lemon juice. Cook till tomatoes are soft. Take it in a blender and puree till smooth. Set aside. Now add the onion paste in the pot with chicken and mix well. Cook for 5 minutes. Now add in the tomato puree and mix well. Add in water if needed. Add in chilli powder, turmeric powder, garam masala powder and mix well. Cover and simmer for 10 to 15 minutes till oil separates. Add in coriander leaves and mix well. Serve.', refusal=None, role='assistant', audio=None, function_call=None, tool_calls=None)\n"
     ]
    }
   ],
   "source": [
    "infer_fine_tuned_model(FT_MODEL_NM, \"what is the recipe for dhaba chicken gravy recipe\")"
   ]
  },
  {
   "cell_type": "code",
   "execution_count": 48,
   "id": "af443da3",
   "metadata": {
    "scrolled": true
   },
   "outputs": [
    {
     "name": "stdout",
     "output_type": "stream",
     "text": [
      "ChatCompletionMessage(content='Recipe Name: Clear Butter Chicken Meatzball; Ingredients : For Chicken Stock - 2 tbsp Butter 1 large Onion chopped finely 1 tbsp Ginger Garlic Paste 2 Green Chillies slit 1 large Tomato chopped 1 tbsp Chicken Stock Powder 4 cups Water 500 grams Chicken Boneless For Chicken Meatballs - 500 grams Chicken Boneless 2 tbsp Butter 1 large Onion chopped finely 1 tbsp Ginger Garlic Paste 2 Green Chillies slit 1 large Tomato chopped 1 tbsp Chicken Stock Powder 4 tbsp Bread Crumbs 1 tbsp Chicken Stock Powder 1 tsp Salt 1 tsp Kashmiri Chilli Powder 1 tsp Garam Masala Powder 1 tbsp Coriander Leaves finely chopped 2 tbsp Cashews finely chopped 2 tbsp Butter For Butter Chicken Sauce - 2 tbsp Butter 1 large Onion chopped finely 1 tbsp Ginger Garlic Paste 2 Green Chillies slit 1 large Tomato chopped 1 tbsp Chicken Stock Powder 4 cups Water 1 tsp Salt 1 tsp Kashmiri Chilli Powder 1 tsp Garam Masala Powder 2 tbsp Cashews finely chopped 2 tbsp Coriander Leaves finely chopped 1 tbsp Fresh Cream; Cooking Instructions : For Chicken Stock - Heat butter in a pot, add in onions and saute till golden. Add in ginger garlic paste and chillies and saute for a min. Add in tomatoes and cook till soft. Add in chicken stock powder and water and mix well. Add in chicken and simmer on low heat for 20 mins. Strain the stock and set aside. For Chicken Meatballs - Take chicken in a food processor and grind it to a fine paste. Set aside. Heat 1 tbsp butter in a pan, add in onions and saute till golden. Add in ginger garlic paste and chillies and saute for a min. Add in tomatoes and cook till soft. Add in chicken stock powder and water and mix well. Take this mixture in a bowl, add in ground chicken, breadcrumbs, chicken stock powder, salt, chilli powder, garam masala powder and coriander leaves. Mix well. Shape into balls and set aside. Wipe the pan you cooked the chicken in. Add 1 tbsp butter in a pan, add in cashews and saute till golden. Add in onions and saute till golden. Add in ginger garlic paste and chillies and saute for a min. Add in tomatoes and cook till soft. Add in chicken stock powder and water and mix well. Add in salt, chilli powder, garam masala powder and coriander leaves. Mix well. Now add in the prepared chicken meatballs and simmer for 10 to 15 mins. Add in coriander leaves and mix well. Add in fresh cream and mix well. For Serving - Take the prepared chicken stock in a bowl, add in the prepared chicken meatballs and pour the butter chicken sauce over it. Garnish with coriander leaves and serve.', refusal=None, role='assistant', audio=None, function_call=None, tool_calls=None)\n"
     ]
    }
   ],
   "source": [
    "infer_fine_tuned_model(FT_MODEL_NM, \"how to cook Clear butter chicken meatzball\")"
   ]
  },
  {
   "cell_type": "markdown",
   "id": "2702c454",
   "metadata": {},
   "source": [
    "\n",
    "\n",
    "----\n",
    "\n",
    "**Conclusion**"
   ]
  },
  {
   "attachments": {
    "image.png": {
     "image/png": "[encoded data removed]"
    }
   },
   "cell_type": "markdown",
   "id": "be891b1a",
   "metadata": {},
   "source": [
    "\n",
    "\n",
    "Metrics\n",
    "\n",
    "\n",
    "\n",
    "![image.png](attachment:image.png)\n",
    "\n",
    "- Training loss : 0.27\n",
    "    - The final training loss indicates how well the model has minimized errors during training. A lower loss generally means better performance, but loss alone is not a perfect indicator of fine-tuning success.\n",
    "    - Loss below 0.5 is generally good, but since the model did not generate expected responses, this suggests it may not have learned the desired patterns effectively.\n",
    "- batch size of 1 is used\n",
    "    - A batch size of 1 means the model processed one training sample at a time during each update.\n",
    "    - Multiple runs required to increae it if needed\n",
    "- learning rate multiplier of 1.8 was used  (can range betweeen 0.0001 to 10)  \n",
    "    - This learning rate is very high\n",
    "- Number of epochs : 4 is used\n",
    "- Trained tokens 34,564\n",
    "\n",
    "The Fine tuned model using custom JSONL recipe did not pick the response from the trained data from the above 3 samples.\n",
    "\n",
    "Possible reason :  \n",
    "- The training data is insufficient, Need to add more training data,  Will be tried \n",
    "- May try to use a different system prompts as the same prompt is used -  less likely to influence the results hence not tried\n",
    "\n",
    "\n"
   ]
  },
  {
   "cell_type": "code",
   "execution_count": null,
   "id": "e466db57",
   "metadata": {},
   "outputs": [],
   "source": []
  }
 ],
 "metadata": {
  "kernelspec": {
   "display_name": "Python 3 (ipykernel)",
   "language": "python",
   "name": "python3"
  },
  "language_info": {
   "codemirror_mode": {
    "name": "ipython",
    "version": 3
   },
   "file_extension": ".py",
   "mimetype": "text/x-python",
   "name": "python",
   "nbconvert_exporter": "python",
   "pygments_lexer": "ipython3",
   "version": "3.11.5"
  }
 },
 "nbformat": 4,
 "nbformat_minor": 5
}
